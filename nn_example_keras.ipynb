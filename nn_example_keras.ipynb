{
  "nbformat": 4,
  "nbformat_minor": 0,
  "metadata": {
    "colab": {
      "provenance": [],
      "include_colab_link": true
    },
    "kernelspec": {
      "name": "python3",
      "display_name": "Python 3"
    },
    "language_info": {
      "name": "python"
    }
  },
  "cells": [
    {
      "cell_type": "markdown",
      "metadata": {
        "id": "view-in-github",
        "colab_type": "text"
      },
      "source": [
        "<a href=\"https://colab.research.google.com/github/jeddyclass/202302INTRO/blob/main/nn_example_keras.ipynb\" target=\"_parent\"><img src=\"https://colab.research.google.com/assets/colab-badge.svg\" alt=\"Open In Colab\"/></a>"
      ]
    },
    {
      "cell_type": "code",
      "execution_count": null,
      "metadata": {
        "id": "rGc2klYnSp_F"
      },
      "outputs": [],
      "source": [
        "import numpy as np\n",
        "from keras.models import Sequential\n",
        "from keras.layers.core import Dense, Dropout, Activation\n",
        "from keras.layers import Conv2D, MaxPooling2D, Flatten\n",
        "from keras.optimizers import SGD, Adam\n",
        "from keras.utils import np_utils\n",
        "from keras.datasets import mnist"
      ]
    },
    {
      "cell_type": "code",
      "source": [
        "def load_data():\n",
        "  (x_train, y_train), (x_test, y_test) = mnist.load_data()\n",
        "  number = 10000\n",
        "  x_train = x_train[0:number]\n",
        "  y_train = y_train[0:number]\n",
        "  x_train = x_train.reshape(number, 28*28)\n",
        "  x_test = x_test.reshape(x_test.shape[0], 28*28)\n",
        "  x_train = x_train.astype('float32')\n",
        "  x_test = x_test.astype('float32')\n",
        "\n",
        "  y_train = np_utils.to_categorical(y_train, 10)\n",
        "  y_test = np_utils.to_categorical(y_test, 10)\n",
        "  x_train = x_train\n",
        "  x_test = x_test\n",
        "  x_train = x_train / 255\n",
        "  x_test = x_test / 255\n",
        "  return (x_train, y_train), (x_test, y_test)"
      ],
      "metadata": {
        "id": "BLwNUUUTTLtk"
      },
      "execution_count": null,
      "outputs": []
    },
    {
      "cell_type": "code",
      "source": [
        "(x_train, y_train), (x_test, y_test) = mnist.load_data()\n",
        "number = 10000\n",
        "x_train = x_train[0:number]\n",
        "y_train = y_train[0:number]\n",
        "x_train = x_train.reshape(number, 28*28)\n",
        "x_test = x_test.reshape(x_test.shape[0], 28*28)\n",
        "x_train = x_train.astype('float32')\n",
        "x_test = x_test.astype('float32')\n",
        "\n",
        "y_train = np_utils.to_categorical(y_train, 10)\n",
        "y_test = np_utils.to_categorical(y_test, 10)\n",
        "x_train = x_train\n",
        "x_test = x_test\n",
        "x_train = x_train / 255\n",
        "x_test = x_test / 255\n"
      ],
      "metadata": {
        "id": "9Vy4FV0-WlV8"
      },
      "execution_count": null,
      "outputs": []
    },
    {
      "cell_type": "code",
      "source": [
        "#load_data()"
      ],
      "metadata": {
        "id": "oKkWoTKVWNh9"
      },
      "execution_count": null,
      "outputs": []
    },
    {
      "cell_type": "code",
      "source": [
        "model = Sequential()\n",
        "model.add(Dense(input_dim=28*28, units=633, activation='sigmoid'))\n",
        "model.add(Dense(units=633, activation='sigmoid'))\n",
        "model.add(Dense(units=633, activation='sigmoid'))\n",
        "model.add(Dense(units=10, activation='softmax'))\n",
        "\n",
        "model.compile(loss='mse', optimizer=SGD(lr=0.1),metrics=['accuracy'])\n",
        "\n",
        "model.fit(x_train, y_train, batch_size=100, epochs=20)\n",
        "\n",
        "result = model.evaluate(x_test, y_test)\n",
        "print('Test Acc:')\n",
        "print(result[1])"
      ],
      "metadata": {
        "colab": {
          "base_uri": "https://localhost:8080/"
        },
        "id": "IbPiiBUnUR1S",
        "outputId": "9a09a931-bb25-4951-8f05-786b808108c7"
      },
      "execution_count": null,
      "outputs": [
        {
          "output_type": "stream",
          "name": "stdout",
          "text": [
            "Epoch 1/20\n",
            "100/100 [==============================] - 2s 15ms/step - loss: 0.0903 - accuracy: 0.1151\n",
            "Epoch 2/20\n",
            "100/100 [==============================] - 1s 14ms/step - loss: 0.0899 - accuracy: 0.1125\n",
            "Epoch 3/20\n",
            "100/100 [==============================] - 1s 15ms/step - loss: 0.0899 - accuracy: 0.1135\n",
            "Epoch 4/20\n",
            "100/100 [==============================] - 1s 14ms/step - loss: 0.0899 - accuracy: 0.1146\n",
            "Epoch 5/20\n",
            "100/100 [==============================] - 1s 14ms/step - loss: 0.0899 - accuracy: 0.1120\n",
            "Epoch 6/20\n",
            "100/100 [==============================] - 1s 14ms/step - loss: 0.0899 - accuracy: 0.1174\n",
            "Epoch 7/20\n",
            "100/100 [==============================] - 1s 14ms/step - loss: 0.0899 - accuracy: 0.1139\n",
            "Epoch 8/20\n",
            "100/100 [==============================] - 1s 15ms/step - loss: 0.0899 - accuracy: 0.1235\n",
            "Epoch 9/20\n",
            "100/100 [==============================] - 1s 15ms/step - loss: 0.0899 - accuracy: 0.1184\n",
            "Epoch 10/20\n",
            "100/100 [==============================] - 1s 14ms/step - loss: 0.0899 - accuracy: 0.1143\n",
            "Epoch 11/20\n",
            "100/100 [==============================] - 1s 15ms/step - loss: 0.0899 - accuracy: 0.1180\n",
            "Epoch 12/20\n",
            "100/100 [==============================] - 1s 14ms/step - loss: 0.0899 - accuracy: 0.1166\n",
            "Epoch 13/20\n",
            "100/100 [==============================] - 1s 14ms/step - loss: 0.0899 - accuracy: 0.1189\n",
            "Epoch 14/20\n",
            "100/100 [==============================] - 1s 14ms/step - loss: 0.0899 - accuracy: 0.1247\n",
            "Epoch 15/20\n",
            "100/100 [==============================] - 1s 15ms/step - loss: 0.0899 - accuracy: 0.1193\n",
            "Epoch 16/20\n",
            "100/100 [==============================] - 1s 14ms/step - loss: 0.0898 - accuracy: 0.1208\n",
            "Epoch 17/20\n",
            "100/100 [==============================] - 1s 15ms/step - loss: 0.0898 - accuracy: 0.1287\n",
            "Epoch 18/20\n",
            "100/100 [==============================] - 1s 14ms/step - loss: 0.0898 - accuracy: 0.1155\n",
            "Epoch 19/20\n",
            "100/100 [==============================] - 1s 14ms/step - loss: 0.0898 - accuracy: 0.1274\n",
            "Epoch 20/20\n",
            "100/100 [==============================] - 2s 20ms/step - loss: 0.0898 - accuracy: 0.1160\n",
            "313/313 [==============================] - 1s 4ms/step - loss: 0.0898 - accuracy: 0.1152\n",
            "Test Acc:\n",
            "0.1151999980211258\n"
          ]
        }
      ]
    },
    {
      "cell_type": "code",
      "source": [],
      "metadata": {
        "id": "DTFXmdZKUZFf"
      },
      "execution_count": null,
      "outputs": []
    }
  ]
}